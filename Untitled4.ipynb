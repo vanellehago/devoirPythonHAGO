{
 "cells": [
  {
   "cell_type": "code",
   "execution_count": 1,
   "id": "ab0d16b4",
   "metadata": {},
   "outputs": [
    {
     "name": "stdout",
     "output_type": "stream",
     "text": [
      "Veuillez saisir votre nom : vanou\n",
      "Bonjour vanou, bienvenue !\n"
     ]
    }
   ],
   "source": [
    "\n",
    "nom = input(\"Veuillez saisir votre nom : \")\n",
    "\n",
    "print(\"Bonjour\", nom + \", bienvenue !\")\n"
   ]
  },
  {
   "cell_type": "code",
   "execution_count": 2,
   "id": "34e3dc18",
   "metadata": {},
   "outputs": [
    {
     "name": "stdout",
     "output_type": "stream",
     "text": [
      "Veuillez saisir le premier nombre : 23\n",
      "Veuillez saisir le deuxième nombre : 2\n",
      "La somme de 23.0 et 2.0 est : 25.0\n"
     ]
    }
   ],
   "source": [
    "a = float(input(\"Veuillez saisir le premier nombre : \"))\n",
    "b = float(input(\"Veuillez saisir le deuxième nombre : \"))\n",
    "\n",
    "somme = a + b\n",
    "print(\"La somme de\", a, \"et\", b, \"est :\", somme)\n"
   ]
  },
  {
   "cell_type": "code",
   "execution_count": 3,
   "id": "61793105",
   "metadata": {},
   "outputs": [
    {
     "name": "stdout",
     "output_type": "stream",
     "text": [
      "Veuillez saisir le premier nombre : 23\n",
      "Veuillez saisir le deuxième nombre : 4\n",
      "Le maximum de 23.0 et 4.0 est : 23.0\n"
     ]
    }
   ],
   "source": [
    "a = float(input(\"Veuillez saisir le premier nombre : \"))\n",
    "b = float(input(\"Veuillez saisir le deuxième nombre : \"))\n",
    "\n",
    "maximum = max(a, b)\n",
    "print(\"Le maximum de\", a, \"et\", b, \"est :\", maximum)\n"
   ]
  },
  {
   "cell_type": "code",
   "execution_count": 4,
   "id": "ad64abb0",
   "metadata": {},
   "outputs": [
    {
     "name": "stdout",
     "output_type": "stream",
     "text": [
      "1\n",
      "2\n",
      "3\n",
      "4\n",
      "5\n",
      "6\n",
      "7\n",
      "8\n",
      "9\n",
      "10\n",
      "11\n",
      "12\n",
      "13\n",
      "14\n",
      "15\n",
      "16\n",
      "17\n",
      "18\n",
      "19\n",
      "20\n",
      "21\n",
      "22\n",
      "23\n",
      "24\n",
      "25\n",
      "26\n",
      "27\n",
      "28\n",
      "29\n",
      "30\n",
      "31\n",
      "32\n",
      "33\n",
      "34\n",
      "35\n",
      "36\n",
      "37\n",
      "38\n",
      "39\n",
      "40\n",
      "41\n",
      "42\n",
      "43\n",
      "44\n",
      "45\n",
      "46\n",
      "47\n",
      "48\n",
      "49\n",
      "50\n",
      "51\n",
      "52\n",
      "53\n",
      "54\n",
      "55\n",
      "56\n",
      "57\n",
      "58\n",
      "59\n",
      "60\n",
      "61\n",
      "62\n",
      "63\n",
      "64\n",
      "65\n",
      "66\n",
      "67\n",
      "68\n",
      "69\n",
      "70\n",
      "71\n",
      "72\n",
      "73\n",
      "74\n",
      "75\n",
      "76\n",
      "77\n",
      "78\n",
      "79\n",
      "80\n",
      "81\n",
      "82\n",
      "83\n",
      "84\n",
      "85\n",
      "86\n",
      "87\n",
      "88\n",
      "89\n",
      "90\n",
      "91\n",
      "92\n",
      "93\n",
      "94\n",
      "95\n",
      "96\n",
      "97\n",
      "98\n",
      "99\n",
      "100\n"
     ]
    }
   ],
   "source": [
    "for i in range(1, 101):\n",
    "    print(i)\n"
   ]
  },
  {
   "cell_type": "code",
   "execution_count": 5,
   "id": "b0bf1c24",
   "metadata": {},
   "outputs": [
    {
     "name": "stdout",
     "output_type": "stream",
     "text": [
      "Veuillez saisir un nombre entier : 57\n",
      "Le nombre 57 est impair.\n"
     ]
    }
   ],
   "source": [
    "nombre = int(input(\"Veuillez saisir un nombre entier : \"))\n",
    "\n",
    "if nombre % 2 == 0:\n",
    "    print(f\"Le nombre {nombre} est pair.\")\n",
    "else:\n",
    "    print(f\"Le nombre {nombre} est impair.\")\n",
    "\n"
   ]
  },
  {
   "cell_type": "code",
   "execution_count": 6,
   "id": "87e67889",
   "metadata": {},
   "outputs": [
    {
     "name": "stdout",
     "output_type": "stream",
     "text": [
      "Veuillez saisir votre âge : 17\n",
      "Vous êtes mineur.\n"
     ]
    }
   ],
   "source": [
    "age = int(input(\"Veuillez saisir votre âge : \"))\n",
    "\n",
    "if age >= 18:\n",
    "    print(\"Vous êtes majeur.\")\n",
    "else:\n",
    "    print(\"Vous êtes mineur.\")\n",
    "\n"
   ]
  },
  {
   "cell_type": "code",
   "execution_count": 7,
   "id": "2dfa40b1",
   "metadata": {},
   "outputs": [
    {
     "name": "stdout",
     "output_type": "stream",
     "text": [
      "Veuillez saisir le premier nombre : 5\n",
      "Veuillez saisir le deuxième nombre : 7\n",
      "Veuillez saisir le troisième nombre : 9\n",
      "Le maximum des trois nombres est : 9.0\n"
     ]
    }
   ],
   "source": [
    "\n",
    "x = float(input(\"Veuillez saisir le premier nombre : \"))\n",
    "y = float(input(\"Veuillez saisir le deuxième nombre : \"))\n",
    "z = float(input(\"Veuillez saisir le troisième nombre : \"))\n",
    "\n",
    "\n",
    "maximum = max(x, y, z)\n",
    "print(f\"Le maximum des trois nombres est : {maximum}\")\n",
    "\n"
   ]
  },
  {
   "cell_type": "code",
   "execution_count": 8,
   "id": "e59e75c0",
   "metadata": {},
   "outputs": [
    {
     "name": "stdout",
     "output_type": "stream",
     "text": [
      "Veuillez saisir un nombre entier : 56\n",
      "La somme de 1 à 56 est : 1596\n"
     ]
    }
   ],
   "source": [
    "\n",
    "n = int(input(\"Veuillez saisir un nombre entier : \"))\n",
    "\n",
    "somme = sum(range(1, n + 1))\n",
    "\n",
    "print(f\"La somme de 1 à {n} est : {somme}\")\n",
    "\n",
    "\n"
   ]
  },
  {
   "cell_type": "code",
   "execution_count": 10,
   "id": "fcf096e7",
   "metadata": {},
   "outputs": [
    {
     "name": "stdout",
     "output_type": "stream",
     "text": [
      "Veuillez saisir un nombre entier : 3\n",
      "La factorielle de 3 est : 6\n"
     ]
    }
   ],
   "source": [
    "\n",
    "n = int(input(\"Veuillez saisir un nombre entier : \"))\n",
    "factorielle = 1\n",
    "for i in range(1, n + 1):\n",
    "    factorielle *= i\n",
    "    \n",
    "print(f\"La factorielle de {n} est : {factorielle}\")"
   ]
  },
  {
   "cell_type": "code",
   "execution_count": 11,
   "id": "2bdd156b",
   "metadata": {},
   "outputs": [
    {
     "name": "stdout",
     "output_type": "stream",
     "text": [
      "Veuillez saisir le rayon du cercle : 6\n",
      "La surface du cercle est : 113.10 m²\n",
      "Le périmètre du cercle est : 37.70 m\n"
     ]
    }
   ],
   "source": [
    "import math\n",
    "\n",
    "rayon = float(input(\"Veuillez saisir le rayon du cercle : \"))\n",
    "\n",
    "surface = math.pi * rayon ** 2\n",
    "perimetre = 2 * math.pi * rayon\n",
    "\n",
    "print(f\"La surface du cercle est : {surface:.2f} m²\")\n",
    "print(f\"Le périmètre du cercle est : {perimetre:.2f} m\")\n",
    "\n",
    "\n"
   ]
  },
  {
   "cell_type": "code",
   "execution_count": 13,
   "id": "f118792e",
   "metadata": {},
   "outputs": [
    {
     "name": "stdout",
     "output_type": "stream",
     "text": [
      "Veuillez saisir un nombre entier : 8\n",
      "Les diviseurs de 8 sont :\n",
      "1\n",
      "2\n",
      "4\n",
      "8\n"
     ]
    }
   ],
   "source": [
    "\n",
    "nombre = int(input(\"Veuillez saisir un nombre entier : \"))\n",
    "\n",
    "diviseurs = []\n",
    "\n",
    "for i in range(1, nombre + 1):\n",
    "    if nombre % i == 0:\n",
    "        diviseurs.append(i)\n",
    "\n",
    "print(f\"Les diviseurs de {nombre} sont :\")\n",
    "for diviseur in diviseurs:\n",
    "    print(diviseur)\n",
    "\n"
   ]
  },
  {
   "cell_type": "code",
   "execution_count": 14,
   "id": "12be874d",
   "metadata": {},
   "outputs": [
    {
     "name": "stdout",
     "output_type": "stream",
     "text": [
      "Veuillez saisir le premier nombre entier (a) : 6\n",
      "Veuillez saisir le deuxième nombre entier (b) : 4\n",
      "La division euclidienne de 6 par 4 est :\n",
      "Quotient : 1\n",
      "Reste : 2\n"
     ]
    }
   ],
   "source": [
    "a = int(input(\"Veuillez saisir le premier nombre entier (a) : \"))\n",
    "b = int(input(\"Veuillez saisir le deuxième nombre entier (b) : \"))\n",
    "\n",
    "if b == 0:\n",
    "    print(\"Erreur : division par zéro\")\n",
    "else:\n",
    "    \n",
    "    quotient = a // b\n",
    "    reste = a % b\n",
    "    \n",
    "    print(f\"La division euclidienne de {a} par {b} est :\")\n",
    "    print(f\"Quotient : {quotient}\")\n",
    "    print(f\"Reste : {reste}\")\n"
   ]
  },
  {
   "cell_type": "code",
   "execution_count": 15,
   "id": "c85bb3f3",
   "metadata": {},
   "outputs": [
    {
     "name": "stdout",
     "output_type": "stream",
     "text": [
      "Veuillez saisir un nombre entier : 9\n",
      "Le nombre 9 est un carré parfait.\n"
     ]
    }
   ],
   "source": [
    "n = int(input(\"Veuillez saisir un nombre entier : \"))\n",
    "\n",
    "racine = int(n ** 0.5)\n",
    "if racine ** 2 == n:\n",
    "    print(f\"Le nombre {n} est un carré parfait.\")\n",
    "else:\n",
    "    print(f\"Le nombre {n} n'est pas un carré parfait.\")\n",
    "\n"
   ]
  },
  {
   "cell_type": "code",
   "execution_count": 16,
   "id": "93362a70",
   "metadata": {},
   "outputs": [
    {
     "name": "stdout",
     "output_type": "stream",
     "text": [
      "Veuillez saisir un nombre entier : 6\n",
      "Le nombre 6 n'est pas premier.\n"
     ]
    }
   ],
   "source": [
    "\n",
    "n = int(input(\"Veuillez saisir un nombre entier : \"))\n",
    "\n",
    "def est_premier(nombre):\n",
    "    if nombre <= 1:\n",
    "        return False\n",
    "    for i in range(2, int(nombre ** 0.5) + 1):\n",
    "        if nombre % i == 0:\n",
    "            return False\n",
    "    return True\n",
    "\n",
    "if est_premier(n):\n",
    "    print(f\"Le nombre {n} est premier.\")\n",
    "else:\n",
    "    print(f\"Le nombre {n} n'est pas premier.\")\n",
    "\n"
   ]
  },
  {
   "cell_type": "code",
   "execution_count": 17,
   "id": "be89d982",
   "metadata": {},
   "outputs": [
    {
     "name": "stdout",
     "output_type": "stream",
     "text": [
      "Parcours avec une boucle for :\n",
      "B\n",
      "o\n",
      "n\n",
      "j\n",
      "o\n",
      "u\n",
      "r\n",
      ",\n",
      " \n",
      "m\n",
      "o\n",
      "n\n",
      "d\n",
      "e\n",
      " \n",
      "!\n",
      "\n",
      "Parcours avec une boucle while :\n",
      "B\n",
      "o\n",
      "n\n",
      "j\n",
      "o\n",
      "u\n",
      "r\n",
      ",\n",
      " \n",
      "m\n",
      "o\n",
      "n\n",
      "d\n",
      "e\n",
      " \n",
      "!\n",
      "\n",
      "Parcours avec la fonction enumerate :\n",
      "Position 0 : B\n",
      "Position 1 : o\n",
      "Position 2 : n\n",
      "Position 3 : j\n",
      "Position 4 : o\n",
      "Position 5 : u\n",
      "Position 6 : r\n",
      "Position 7 : ,\n",
      "Position 8 :  \n",
      "Position 9 : m\n",
      "Position 10 : o\n",
      "Position 11 : n\n",
      "Position 12 : d\n",
      "Position 13 : e\n",
      "Position 14 :  \n",
      "Position 15 : !\n",
      "\n",
      "Parcours avec la fonction range :\n",
      "B\n",
      "o\n",
      "n\n",
      "j\n",
      "o\n",
      "u\n",
      "r\n",
      ",\n",
      " \n",
      "m\n",
      "o\n",
      "n\n",
      "d\n",
      "e\n",
      " \n",
      "!\n"
     ]
    }
   ],
   "source": [
    "\n",
    "chaine = \"Bonjour, monde !\"\n",
    "\n",
    "print(\"Parcours avec une boucle for :\")\n",
    "for caractere in chaine:\n",
    "    print(caractere)\n",
    "\n",
    "print(\"\\nParcours avec une boucle while :\")\n",
    "i = 0\n",
    "while i < len(chaine):\n",
    "    print(chaine[i])\n",
    "    i += 1\n",
    "\n",
    "print(\"\\nParcours avec la fonction enumerate :\")\n",
    "for i, caractere in enumerate(chaine):\n",
    "    print(f\"Position {i} : {caractere}\")\n",
    "\n",
    "print(\"\\nParcours avec la fonction range :\")\n",
    "for i in range(len(chaine)):\n",
    "    print(chaine[i])\n"
   ]
  },
  {
   "cell_type": "code",
   "execution_count": 18,
   "id": "575f451a",
   "metadata": {},
   "outputs": [
    {
     "name": "stdout",
     "output_type": "stream",
     "text": [
      "Veuillez saisir une chaîne de caractère : bok\n",
      "Nombre d'occurrences de chaque caractère :\n",
      "b : 1\n",
      "o : 1\n",
      "k : 1\n",
      "\n",
      "Nombre d'occurrences de chaque caractère (avec collections.Counter) :\n",
      "b : 1\n",
      "o : 1\n",
      "k : 1\n"
     ]
    }
   ],
   "source": [
    "\n",
    "chaine = input(\"Veuillez saisir une chaîne de caractère : \")\n",
    "\n",
    "occurrences = {}\n",
    "\n",
    "for caractere in chaine:\n",
    "   \n",
    "    if caractere in occurrences:\n",
    "        \n",
    "        occurrences[caractere] += 1\n",
    "    else:\n",
    "       \n",
    "        occurrences[caractere] = 1\n",
    "\n",
    "\n",
    "print(\"Nombre d'occurrences de chaque caractère :\")\n",
    "for caractere, occurrence in occurrences.items():\n",
    "    print(f\"{caractere} : {occurrence}\")\n",
    "\n",
    "from collections import Counter\n",
    "occurrences = Counter(chaine)\n",
    "print(\"\\nNombre d'occurrences de chaque caractère (avec collections.Counter) :\")\n",
    "for caractere, occurrence in occurrences.items():\n",
    "    print(f\"{caractere} : {occurrence}\")\n",
    "\n"
   ]
  },
  {
   "cell_type": "code",
   "execution_count": 19,
   "id": "6c95ae94",
   "metadata": {},
   "outputs": [
    {
     "name": "stdout",
     "output_type": "stream",
     "text": [
      "Veuillez saisir une chaîne de caractère : bonjour les amis\n",
      "La chaîne contient la lettre 'a' aux positions : [13]\n",
      "La chaîne contient la lettre 'a' à la position : 13\n"
     ]
    }
   ],
   "source": [
    "\n",
    "chaine = input(\"Veuillez saisir une chaîne de caractère : \")\n",
    "\n",
    "position = []\n",
    "for i, caractere in enumerate(chaine):\n",
    "    if caractere.lower() == 'a':\n",
    "        position.append(i + 1)\n",
    "\n",
    "if position:\n",
    "    print(f\"La chaîne contient la lettre 'a' aux positions : {position}\")\n",
    "else:\n",
    "    print(\"La chaîne ne contient pas la lettre 'a'.\")\n",
    "\n",
    "position = chaine.lower().find('a')\n",
    "if position != -1:\n",
    "    print(f\"La chaîne contient la lettre 'a' à la position : {position + 1}\")\n",
    "else:\n",
    "    print(\"La chaîne ne contient pas la lettre 'a'.\")\n",
    "\n"
   ]
  },
  {
   "cell_type": "code",
   "execution_count": 20,
   "id": "f6de085a",
   "metadata": {},
   "outputs": [
    {
     "name": "stdout",
     "output_type": "stream",
     "text": [
      "Veuillez saisir une chaîne de caractère : nanou\n",
      "Chaîne originale :  nanou\n",
      "Chaîne modifiée :  uanon\n"
     ]
    }
   ],
   "source": [
    "# Demande à l'utilisateur de saisir une chaîne de caractère\n",
    "chaine = input(\"Veuillez saisir une chaîne de caractère : \")\n",
    "\n",
    "# Vérifie si la chaîne contient au moins 2 caractères\n",
    "if len(chaine) >= 2:\n",
    "    # Échange le premier et le dernier caractère\n",
    "    premiere_lettre = chaine[0]\n",
    "    derniere_lettre = chaine[-1]\n",
    "    nouvelle_chaine = derniere_lettre + chaine[1:-1] + premiere_lettre\n",
    "    \n",
    "    # Affichage du résultat\n",
    "    print(\"Chaîne originale : \", chaine)\n",
    "    print(\"Chaîne modifiée : \", nouvelle_chaine)\n",
    "else:\n",
    "    print(\"La chaîne doit contenir au moins 2 caractères.\")\n",
    "\n"
   ]
  },
  {
   "cell_type": "code",
   "execution_count": 21,
   "id": "9b841acb",
   "metadata": {},
   "outputs": [
    {
     "name": "stdout",
     "output_type": "stream",
     "text": [
      "Veuillez saisir une chaîne de caractère : vanou\n",
      "Chaîne originale :  vanou\n",
      "Nombre de voyelles :  3\n"
     ]
    }
   ],
   "source": [
    "# Demande à l'utilisateur de saisir une chaîne de caractère\n",
    "chaine = input(\"Veuillez saisir une chaîne de caractère : \")\n",
    "\n",
    "# Définit les voyelles\n",
    "voyelles = 'aeiouAEIOU'\n",
    "\n",
    "# Compte les voyelles\n",
    "compte = sum(1 for caractere in chaine if caractere in voyelles)\n",
    "\n",
    "# Affichage du résultat\n",
    "print(\"Chaîne originale : \", chaine)\n",
    "print(\"Nombre de voyelles : \", compte)\n",
    "\n"
   ]
  },
  {
   "cell_type": "code",
   "execution_count": 22,
   "id": "94fcd761",
   "metadata": {},
   "outputs": [
    {
     "name": "stdout",
     "output_type": "stream",
     "text": [
      "Veuillez saisir un texte : salut salut\n",
      "Texte original :  salut salut\n",
      "Premier mot :  salut\n"
     ]
    }
   ],
   "source": [
    "\n",
    "texte = input(\"Veuillez saisir un texte : \")\n",
    "\n",
    "premier_mot = texte.split()[0]\n",
    "\n",
    "print(\"Texte original : \", texte)\n",
    "print(\"Premier mot : \", premier_mot)\n"
   ]
  },
  {
   "cell_type": "code",
   "execution_count": 25,
   "id": "47d86880",
   "metadata": {},
   "outputs": [
    {
     "name": "stdout",
     "output_type": "stream",
     "text": [
      "Veuillez saisir le nom d'un fichier : vanou\n",
      "Nom du fichier :  vanou\n",
      "Extension :  vanou\n"
     ]
    }
   ],
   "source": [
    "\n",
    "nom_fichier = input(\"Veuillez saisir le nom d'un fichier : \")\n",
    "\n",
    "extension = nom_fichier.split('.')[-1]\n",
    "\n",
    "print(\"Nom du fichier : \", nom_fichier)\n",
    "print(\"Extension : \", extension)\n"
   ]
  },
  {
   "cell_type": "code",
   "execution_count": 27,
   "id": "53db8bfb",
   "metadata": {},
   "outputs": [
    {
     "name": "stdout",
     "output_type": "stream",
     "text": [
      "Veuillez saisir un mot : ressasser\n",
      "Le mot 'ressasser' est un palindrome.\n"
     ]
    }
   ],
   "source": [
    "\n",
    "mot = input(\"Veuillez saisir un mot : \")\n",
    "\n",
    "mot_nettoye = ''.join(c for c in mot if c.isalnum()).lower()\n",
    "\n",
    "if mot_nettoye == mot_nettoye[::-1]:\n",
    "    print(f\"Le mot '{mot}' est un palindrome.\")\n",
    "else:\n",
    "    print(f\"Le mot '{mot}' n'est pas un palindrome.\")\n"
   ]
  },
  {
   "cell_type": "code",
   "execution_count": 28,
   "id": "bcb01667",
   "metadata": {},
   "outputs": [
    {
     "name": "stdout",
     "output_type": "stream",
     "text": [
      "Veuillez saisir un mot : hoooo\n",
      "Mot original : hoooo\n",
      "Mot inverse : ooooh\n"
     ]
    }
   ],
   "source": [
    "\n",
    "mot = input(\"Veuillez saisir un mot : \")\n",
    "\n",
    "inverse = mot[::-1]\n",
    "\n",
    "print(f\"Mot original : {mot}\")\n",
    "print(f\"Mot inverse : {inverse}\")\n"
   ]
  },
  {
   "cell_type": "code",
   "execution_count": 29,
   "id": "c4b32a6a",
   "metadata": {},
   "outputs": [
    {
     "name": "stdout",
     "output_type": "stream",
     "text": [
      "15\n"
     ]
    }
   ],
   "source": [
    "def somme_liste(lst):\n",
    "    return sum(lst)\n",
    "\n",
    "# Exemple d'utilisation\n",
    "numbers = [1, 2, 3, 4, 5]\n",
    "print(somme_liste(numbers))  \n"
   ]
  },
  {
   "cell_type": "code",
   "execution_count": 30,
   "id": "8da75ad0",
   "metadata": {},
   "outputs": [
    {
     "name": "stdout",
     "output_type": "stream",
     "text": [
      "True\n",
      "False\n"
     ]
    }
   ],
   "source": [
    "def est_vide(lst):\n",
    "    return len(lst) == 0\n",
    "\n",
    "\n",
    "liste1 = []\n",
    "liste2 = [1, 2, 3]\n",
    "\n",
    "print(est_vide(liste1))  # Output : vrai\n",
    "print(est_vide(liste2))  # Output : Faux\n",
    "\n",
    "\n"
   ]
  },
  {
   "cell_type": "code",
   "execution_count": 31,
   "id": "bb3bed3c",
   "metadata": {},
   "outputs": [
    {
     "name": "stdout",
     "output_type": "stream",
     "text": [
      "True\n",
      "False\n"
     ]
    }
   ],
   "source": [
    "def avoir_valeur_commune(liste1, liste2):\n",
    "    return len(set(liste1) & set(liste2)) > 0\n",
    "\n",
    "# Exemple d'utilisation\n",
    "liste1 = [1, 2, 3, 4]\n",
    "liste2 = [3, 4, 5, 6]\n",
    "liste3 = [7, 8, 9]\n",
    "\n",
    "print(avoir_valeur_commune(liste1, liste2))  # Output : vrai\n",
    "print(avoir_valeur_commune(liste1, liste3))  # Output : Faux\n"
   ]
  },
  {
   "cell_type": "code",
   "execution_count": 32,
   "id": "4482a730",
   "metadata": {},
   "outputs": [
    {
     "name": "stdout",
     "output_type": "stream",
     "text": [
      "[1, 2, 3, 4, 5, 6]\n"
     ]
    }
   ],
   "source": [
    "def supprimer_duplicates(liste):\n",
    "    return list(set(liste))\n",
    "\n",
    "# Exemple d'utilisation\n",
    "liste = [1, 2, 2, 3, 4, 4, 5, 6, 6]\n",
    "liste_sans_duplicates = supprimer_duplicates(liste)\n",
    "print(liste_sans_duplicates)  # Output : [1, 2, 3, 4, 5, 6]\n",
    "\n",
    "\n"
   ]
  },
  {
   "cell_type": "code",
   "execution_count": 33,
   "id": "e6ed468f",
   "metadata": {},
   "outputs": [
    {
     "name": "stdout",
     "output_type": "stream",
     "text": [
      "Entiers paires : [2, 4, 6, 8]\n",
      "Entiers impairs : [1, 3, 5, 7, 9]\n"
     ]
    }
   ],
   "source": [
    "def separer_paires_impaires(liste):\n",
    "    paires = [x for x in liste if x % 2 == 0]\n",
    "    impaires = [x for x in liste if x % 2 != 0]\n",
    "    return paires, impaires\n",
    "\n",
    "# Exemple d'utilisation\n",
    "liste = [1, 2, 3, 4, 5, 6, 7, 8, 9]\n",
    "paires, impaires = separer_paires_impaires(liste)\n",
    "print(\"Entiers paires :\", paires)\n",
    "print(\"Entiers impairs :\", impaires)\n",
    "\n"
   ]
  },
  {
   "cell_type": "code",
   "execution_count": 34,
   "id": "6d693a22",
   "metadata": {},
   "outputs": [
    {
     "name": "stdout",
     "output_type": "stream",
     "text": [
      "Permutation 1 : (1, 2, 3)\n",
      "Permutation 2 : (1, 3, 2)\n",
      "Permutation 3 : (2, 1, 3)\n",
      "Permutation 4 : (2, 3, 1)\n",
      "Permutation 5 : (3, 1, 2)\n",
      "Permutation 6 : (3, 2, 1)\n"
     ]
    }
   ],
   "source": [
    "import itertools\n",
    "\n",
    "def permuter_liste(liste):\n",
    "    return list(itertools.permutations(liste))\n",
    "\n",
    "# Exemple d'utilisation\n",
    "liste = [1, 2, 3]\n",
    "permutations = permuter_liste(liste)\n",
    "for i, permutation in enumerate(permutations):\n",
    "    print(f\"Permutation {i+1} : {permutation}\")\n"
   ]
  },
  {
   "cell_type": "code",
   "execution_count": 35,
   "id": "f0c44afb",
   "metadata": {},
   "outputs": [
    {
     "name": "stdout",
     "output_type": "stream",
     "text": [
      "Veuillez saisir une chaîne de caractère : skinny et mow\n",
      "Caractères d'indice pair : \n",
      "Caractère à l'indice 0 : s\n",
      "Caractère à l'indice 2 : i\n",
      "Caractère à l'indice 4 : n\n",
      "Caractère à l'indice 6 :  \n",
      "Caractère à l'indice 8 : t\n",
      "Caractère à l'indice 10 : m\n",
      "Caractère à l'indice 12 : w\n"
     ]
    }
   ],
   "source": [
    "def afficher_caracteres_pair():\n",
    "    chaine = input(\"Veuillez saisir une chaîne de caractère : \")\n",
    "    print(\"Caractères d'indice pair : \")\n",
    "    for i in range(len(chaine)):\n",
    "        if i % 2 == 0:\n",
    "            print(f\"Caractère à l'indice {i} : {chaine[i]}\")\n",
    "\n",
    "afficher_caracteres_pair()\n",
    "\n"
   ]
  },
  {
   "cell_type": "code",
   "execution_count": 36,
   "id": "45173956",
   "metadata": {},
   "outputs": [
    {
     "name": "stdout",
     "output_type": "stream",
     "text": [
      "Veuillez saisir une adresse URL : http://vanou\n"
     ]
    }
   ],
   "source": [
    "import webbrowser\n",
    "\n",
    "def transformer_url_en_lien():\n",
    "    url = input(\"Veuillez saisir une adresse URL : \")\n",
    "    \n",
    "    # Vérifier si l'URL commence par http:// ou https://\n",
    "    if not (url.startswith(\"http://\") or url.startswith(\"https://\")):\n",
    "        url = \"http://\" + url\n",
    "    \n",
    "    # Ouvrir l'URL dans le navigateur par défaut\n",
    "    webbrowser.open(url)\n",
    "\n",
    "transformer_url_en_lien()\n",
    "\n"
   ]
  },
  {
   "cell_type": "code",
   "execution_count": 37,
   "id": "cb088b07",
   "metadata": {},
   "outputs": [
    {
     "name": "stdout",
     "output_type": "stream",
     "text": [
      "Bonjour monde !\n"
     ]
    }
   ],
   "source": [
    "def supprimer_espaces_multiples(chaine):\n",
    "    return ' '.join(chaine.split())\n",
    "\n",
    "# Exemple d'utilisation\n",
    "chaine = \"   Bonjour   monde   !   \"\n",
    "chaine_sans_espaces_multiples = supprimer_espaces_multiples(chaine)\n",
    "print(chaine_sans_espaces_multiples)  # Output : \"Bonjour monde !\"\n",
    "\n",
    "\n"
   ]
  },
  {
   "cell_type": "code",
   "execution_count": 39,
   "id": "efd9981b",
   "metadata": {},
   "outputs": [
    {
     "name": "stdout",
     "output_type": "stream",
     "text": [
      "Veuillez saisir la première chaîne : vanou love\n",
      "Veuillez saisir la deuxième chaîne : vanelle love\n",
      "Mots communs :  ['love']\n"
     ]
    }
   ],
   "source": [
    "def mots_communs():\n",
    "    # Demander à l'utilisateur de saisir deux chaînes\n",
    "    s1 = input(\"Veuillez saisir la première chaîne : \")\n",
    "    s2 = input(\"Veuillez saisir la deuxième chaîne : \")\n",
    "\n",
    "    # Convertir les chaînes en listes de mots\n",
    "    mots_s1 = s1.lower().split()\n",
    "    mots_s2 = s2.lower().split()\n",
    "\n",
    "    # Trouver les mots communs\n",
    "    mots_communs = [mot for mot in mots_s1 if mot in mots_s2]\n",
    "\n",
    "    # Afficher les mots communs\n",
    "    print(\"Mots communs : \", mots_communs)\n",
    "\n",
    "mots_communs()\n",
    "\n"
   ]
  },
  {
   "cell_type": "code",
   "execution_count": null,
   "id": "979b4a6b",
   "metadata": {},
   "outputs": [],
   "source": []
  }
 ],
 "metadata": {
  "kernelspec": {
   "display_name": "Python 3 (ipykernel)",
   "language": "python",
   "name": "python3"
  },
  "language_info": {
   "codemirror_mode": {
    "name": "ipython",
    "version": 3
   },
   "file_extension": ".py",
   "mimetype": "text/x-python",
   "name": "python",
   "nbconvert_exporter": "python",
   "pygments_lexer": "ipython3",
   "version": "3.11.5"
  }
 },
 "nbformat": 4,
 "nbformat_minor": 5
}
